{
 "cells": [
  {
   "cell_type": "code",
   "execution_count": 1,
   "metadata": {},
   "outputs": [
    {
     "name": "stdout",
     "output_type": "stream",
     "text": [
      "C:\\Users\\user\\AppData\\Local\\Programs\\Python\\Python38\\python.exe\n"
     ]
    }
   ],
   "source": [
    "# Tại bên này có nhiều version, bỏ qua\n",
    "import sys\n",
    "print(sys.executable)\n",
    "assert str(sys.executable) == 'C:\\\\Users\\\\user\\\\AppData\\\\Local\\\\Programs\\\\Python\\\\Python38\\\\python.exe'"
   ]
  },
  {
   "cell_type": "code",
   "execution_count": 2,
   "metadata": {},
   "outputs": [],
   "source": [
    "import datetime\n",
    "from datetime import date\n",
    "import pandas as pd\n",
    "\n",
    "from selenium import webdriver\n",
    "from selenium.webdriver.common.by import By\n",
    "from requests_html import HTML\n",
    "import time\n",
    "\n",
    "%matplotlib inline\n",
    "import matplotlib.pyplot as plt\n",
    "import os.path\n",
    "import numpy as np\n",
    "import math\n",
    "\n",
    "import tensorflow as tf\n",
    "from sklearn.preprocessing import MinMaxScaler\n",
    "from keras.models import Sequential, load_model\n",
    "from keras.layers import Dense, LSTM, Dropout\n",
    "from sklearn.model_selection import train_test_split\n",
    "from keras import callbacks\n",
    "import time"
   ]
  },
  {
   "cell_type": "markdown",
   "metadata": {},
   "source": [
    "## Visualize"
   ]
  },
  {
   "cell_type": "code",
   "execution_count": 3,
   "metadata": {},
   "outputs": [],
   "source": [
    "def plot_stock(df, symbol):\n",
    "    plt.figure(figsize = (18,7))\n",
    "    plt.plot(df['Close'])\n",
    "    plt.title(symbol)\n",
    "    plt.xlabel('Date',fontsize=14)\n",
    "    plt.ylabel('Close Price',fontsize=14)\n",
    "\n",
    "    plt.show()\n",
    "    \n",
    "def plot_validation(Y, predicted_Y, scaler, title=''):\n",
    "    valid_vs_prediction = pd.DataFrame({'Close': Y})\n",
    "    valid_vs_prediction['Predicted'] = scaler.inverse_transform(predicted_Y[:, np.newaxis]).reshape(len(predicted_Y)) #Từ scaled -> giá trị cũ\n",
    "    \n",
    "    plt.figure(figsize=(16,8))\n",
    "    plt.title(title)\n",
    "    plt.xlabel('Date', fontsize=18)\n",
    "    plt.ylabel('Close Price', fontsize=18)\n",
    "    plt.plot(valid_vs_prediction[['Close', 'Predicted']])\n",
    "    plt.legend(['Actual', 'Predicted'], loc='lower right')\n",
    "    plt.show()\n",
    "    \n",
    "def plot_prediction(valid_data, predictions, next_predict, scaler, show=None, title=''):\n",
    "    valid_vs_prediction = pd.DataFrame(valid_data)\n",
    "    valid_vs_prediction['Predicted'] = scaler.inverse_transform(predictions) #Từ scaled -> giá trị cũ\n",
    "    valid_vs_prediction\n",
    "    \n",
    "    plt.figure(figsize=(16,8))\n",
    "    plt.title(title)\n",
    "    plt.xlabel('Date', fontsize=18)\n",
    "    plt.ylabel('Close Price', fontsize=18)\n",
    "    if show==None or show > len(valid_data): show = 0\n",
    "    plt.plot(valid_vs_prediction[['Close', 'Predicted']][-show:])\n",
    "    plt.plot(next_predict)\n",
    "    plt.legend(['Val', 'Predicted', 'Prediction'], loc='lower right')\n",
    "    plt.show()"
   ]
  },
  {
   "cell_type": "markdown",
   "metadata": {},
   "source": [
    "# 2. Preprocess"
   ]
  },
  {
   "cell_type": "code",
   "execution_count": 4,
   "metadata": {},
   "outputs": [],
   "source": [
    "def fill_time_point(dataframe):\n",
    "    df = dataframe.copy()\n",
    "    \n",
    "    i = 0\n",
    "    curr = df.index[0]\n",
    "    end = df.index[-1]\n",
    "\n",
    "    while curr != end:\n",
    "        curr += datetime.timedelta(days=1)\n",
    "        i+=1\n",
    "        if curr != df.index[i]:\n",
    "            before = df.iloc[i-1].to_numpy().copy()\n",
    "            after = df.iloc[i].to_numpy().copy()\n",
    "            days_missed = (df.index[i] - curr).days\n",
    "            avg = ((after - before)/(days_missed+1)).round(1)\n",
    "\n",
    "            while curr != df.index[i]:\n",
    "                before += avg\n",
    "                fix = pd.DataFrame({'Open': before[0], 'High': before[1], 'Low': before[2], 'Close': before[3]}, index=[curr])\n",
    "                df = df.append(fix)\n",
    "                #print(fix)\n",
    "                curr += datetime.timedelta(days=1)\n",
    "\n",
    "    df.sort_index(inplace=True)\n",
    "    return df"
   ]
  },
  {
   "cell_type": "code",
   "execution_count": 5,
   "metadata": {},
   "outputs": [],
   "source": [
    "def read_the_fill_csv(filepath):\n",
    "    df = pd.read_csv(filepath, parse_dates={'Datetime':['Date']}).iloc[::-1]\n",
    "    df.set_index(['Datetime'], inplace = True)\n",
    "    df_filled = fill_time_point(df)\n",
    "    \n",
    "    return df, df_filled"
   ]
  },
  {
   "cell_type": "code",
   "execution_count": 6,
   "metadata": {},
   "outputs": [
    {
     "data": {
      "text/plain": [
       "((2868, 4), (4193, 4))"
      ]
     },
     "execution_count": 6,
     "metadata": {},
     "output_type": "execute_result"
    }
   ],
   "source": [
    "BVH, BVH_filled = read_the_fill_csv('BVH.csv')\n",
    "BVH.shape, BVH_filled.shape"
   ]
  },
  {
   "cell_type": "markdown",
   "metadata": {},
   "source": [
    "# 3. Forecasting"
   ]
  },
  {
   "cell_type": "markdown",
   "metadata": {},
   "source": [
    "## Split data"
   ]
  },
  {
   "cell_type": "code",
   "execution_count": 7,
   "metadata": {
    "scrolled": true
   },
   "outputs": [],
   "source": [
    "# Split train - validation - test\n",
    "#        70%        15%       15%\n",
    "def split_data(dataset):\n",
    "    train_data, test_data = train_test_split(dataset, shuffle=False, test_size=0.15)\n",
    "    train_data, validation_data = train_test_split(train_data, shuffle=False, test_size=0.177)\n",
    "    \n",
    "    return train_data, validation_data, test_data"
   ]
  },
  {
   "cell_type": "code",
   "execution_count": 8,
   "metadata": {},
   "outputs": [],
   "source": [
    "def get_scaler(data):\n",
    "    scaler = MinMaxScaler(feature_range=(0,1))\n",
    "    scaler.fit(data.values[:, np.newaxis])\n",
    "    \n",
    "    return scaler"
   ]
  },
  {
   "cell_type": "code",
   "execution_count": 9,
   "metadata": {},
   "outputs": [],
   "source": [
    "def convert_to_timestep(data, steps, lag=0):\n",
    "    X = []\n",
    "    Y = []\n",
    "\n",
    "    for i in range(len(data)):\n",
    "        end_ixd = i + steps\n",
    "\n",
    "        if end_ixd > len(data)-1:\n",
    "            break\n",
    "\n",
    "        seq_x, seq_y = data[i:end_ixd-lag], data[end_ixd]\n",
    "        X.append(np.array(seq_x))\n",
    "        Y.append(seq_y)\n",
    "        \n",
    "    X = np.array(X).reshape(len(X), steps-lag, 1)\n",
    "    Y = np.array(Y)\n",
    "    \n",
    "    return X,Y\n",
    "    #return pd.DataFrame(data={'X': X, 'Y': Y})"
   ]
  },
  {
   "cell_type": "code",
   "execution_count": 10,
   "metadata": {},
   "outputs": [],
   "source": [
    "train_data, validation_data, test_data = split_data(BVH_filled['Close'])"
   ]
  },
  {
   "cell_type": "code",
   "execution_count": 11,
   "metadata": {},
   "outputs": [],
   "source": [
    "scaler = get_scaler(train_data)\n",
    "train_data_scaled = scaler.transform(train_data.values[:, np.newaxis])[:,0]\n",
    "val_data_scaled = scaler.transform(validation_data.values[:, np.newaxis])[:,0]\n",
    "test_data_scaled = scaler.transform(test_data.values[:, np.newaxis])[:,0]"
   ]
  },
  {
   "cell_type": "code",
   "execution_count": 12,
   "metadata": {},
   "outputs": [],
   "source": [
    "#X_test, Y_test = convert_to_timestep(test_data_scaled, steps=100, lag=3)"
   ]
  },
  {
   "cell_type": "markdown",
   "metadata": {},
   "source": [
    "## Build LSTM model"
   ]
  },
  {
   "cell_type": "code",
   "execution_count": 13,
   "metadata": {},
   "outputs": [],
   "source": [
    "def create_LSTM(input_shape):\n",
    "    model = Sequential()\n",
    "    model.add(LSTM(units=50, return_sequences=True,input_shape=input_shape))\n",
    "    model.add(LSTM(units=50, return_sequences=False))\n",
    "    model.add(Dropout(0.25))\n",
    "    model.add(Dense(units=50))\n",
    "    model.add(Dense(units=1))\n",
    "                    # lr=0.001\n",
    "    model.compile(optimizer='adam', loss='mean_squared_error')\n",
    "    return model"
   ]
  },
  {
   "cell_type": "code",
   "execution_count": 20,
   "metadata": {},
   "outputs": [],
   "source": [
    "def train_LSTM(lag, step, batch_size, X_train, Y_train, X_val, Y_val):\n",
    "    to_save = \"models/LLDrDD_lag={0}_step={1}_batchsize={2}_earlystop_p=10.pkl\".format(lag, step, batch_size)\n",
    "    if not os.path.exists(to_save):\n",
    "        model = create_LSTM((X_train.shape[1],1))\n",
    "        earlystopping = callbacks.EarlyStopping(monitor =\"val_loss\", mode =\"min\", patience = 10, \n",
    "                                                restore_best_weights = True, verbose=1)\n",
    "\n",
    "        starttime = time.time()\n",
    "        print(\" <<< Started\", to_save, \"at\", time.strftime('%H:%M:%S', time.localtime(starttime)))\n",
    "\n",
    "        model.fit(X_train, Y_train, validation_data=(X_val, Y_val), \n",
    "                        batch_size=batch_size, verbose=0, epochs=100, callbacks =[earlystopping])\n",
    "\n",
    "        model.save(to_save)\n",
    "        print(\" <<< Finished. Time elapsed:\", time.time() - starttime)\n",
    "    else:\n",
    "        model = load_model(to_save)\n",
    "        print(\" === Loaded: \", to_save)\n",
    "        \n",
    "    return model"
   ]
  },
  {
   "cell_type": "markdown",
   "metadata": {},
   "source": [
    "## Validation"
   ]
  },
  {
   "cell_type": "code",
   "execution_count": 21,
   "metadata": {},
   "outputs": [],
   "source": [
    "def compare_LSTM(train_data, validation_data, list_steps, list_lag, list_batch_size):\n",
    "    tf.random.set_seed(69)\n",
    "    \n",
    "    result = {l:list() for l in list_lag}\n",
    "    \n",
    "    for l in list_lag:\n",
    "        for st in list_steps:\n",
    "            \n",
    "            X_train, Y_train = convert_to_timestep(train_data_scaled, steps=st, lag=l)\n",
    "            X_val, Y_val = convert_to_timestep(val_data_scaled, steps=st, lag=l)\n",
    "            \n",
    "            for bs in list_batch_size:\n",
    "                model = train_LSTM(l, st, bs, X_train, Y_train, X_val, Y_val)\n",
    "                                    \n",
    "                mse = np.mean(((scaler.inverse_transform(model.predict(X_val))\n",
    "                       - scaler.inverse_transform(Y_val[:, np.newaxis]))**2))\n",
    "                result[l].append({'Name': to_save, 'mse':mse, 'model': model})\n",
    "                \n",
    "    return result"
   ]
  },
  {
   "cell_type": "code",
   "execution_count": null,
   "metadata": {
    "scrolled": true
   },
   "outputs": [
    {
     "name": "stdout",
     "output_type": "stream",
     "text": [
      " <<< Started models/LLDrDD_lag=5_step=100_batchsize=64_earlystop_p=10.pkl at 03:51:23\n"
     ]
    }
   ],
   "source": [
    "result = compare_LSTM(train_data, validation_data, list_steps=[100], list_lag=[5], list_batch_size=[64])"
   ]
  },
  {
   "cell_type": "code",
   "execution_count": null,
   "metadata": {},
   "outputs": [],
   "source": [
    "result[5]"
   ]
  },
  {
   "cell_type": "code",
   "execution_count": null,
   "metadata": {},
   "outputs": [],
   "source": []
  },
  {
   "cell_type": "code",
   "execution_count": null,
   "metadata": {},
   "outputs": [],
   "source": [
    "X_train, Y_train = convert_to_timestep(train_data_scaled, steps=100, lag=5)\n",
    "X_val, Y_val = convert_to_timestep(val_data_scaled, steps=100, lag=5)\n",
    "model = result[7][0]['model']"
   ]
  },
  {
   "cell_type": "code",
   "execution_count": null,
   "metadata": {
    "scrolled": false
   },
   "outputs": [],
   "source": [
    "plot_validation(validation_data[100:], model.predict(X_val)[:,0], scaler, title='Validation set')"
   ]
  },
  {
   "cell_type": "code",
   "execution_count": null,
   "metadata": {},
   "outputs": [],
   "source": [
    "mse=np.mean(((scaler.inverse_transform(model.predict(X_val))\n",
    "                       - scaler.inverse_transform(Y_val[:, np.newaxis]))**2))\n",
    "mse"
   ]
  },
  {
   "cell_type": "code",
   "execution_count": 95,
   "metadata": {},
   "outputs": [
    {
     "data": {
      "image/png": "[encoded data removed]",
      "text/plain": [
       "<Figure size 1152x576 with 1 Axes>"
      ]
     },
     "metadata": {
      "needs_background": "light"
     },
     "output_type": "display_data"
    }
   ],
   "source": [
    "plot_validation(test_data[100:], model.predict(X_test)[:,0], scaler, title='Test set')"
   ]
  },
  {
   "cell_type": "code",
   "execution_count": 96,
   "metadata": {},
   "outputs": [
    {
     "data": {
      "text/plain": [
       "3.3974495918415735"
      ]
     },
     "execution_count": 96,
     "metadata": {},
     "output_type": "execute_result"
    }
   ],
   "source": [
    "rmse=np.sqrt(np.mean(((scaler.inverse_transform(model.predict(X_test))\n",
    "                       - scaler.inverse_transform(Y_test[:, np.newaxis]))**2)))\n",
    "rmse"
   ]
  },
  {
   "cell_type": "markdown",
   "metadata": {},
   "source": [
    "## Prediction"
   ]
  },
  {
   "cell_type": "code",
   "execution_count": 23,
   "metadata": {},
   "outputs": [],
   "source": [
    "def predict(model, scaler, data, time_window, num_of_date):\n",
    "    x = scaler.transform(data[-time_window:].to_numpy().reshape(-1, 1))[:,0]\n",
    "\n",
    "    prediction = []\n",
    "\n",
    "    for i in range(num_of_date):\n",
    "        y = model.predict(np.reshape(np.array(x), (1, time_window, 1)))\n",
    "        #if i<3:\n",
    "        #    print(x)\n",
    "         #   print(y[0])\n",
    "        x = np.delete(x, 0)\n",
    "        x = np.append(x, y[0])\n",
    "        prediction.append(y[0])\n",
    "        \n",
    "    unscaled_prediction = scaler.inverse_transform(prediction)\n",
    "    \n",
    "    idx = pd.date_range(data.index[-1], periods=num_of_date+1, freq='1d')[1:]\n",
    "    return pd.Series(unscaled_prediction[:,0], index=idx)"
   ]
  },
  {
   "cell_type": "code",
   "execution_count": 24,
   "metadata": {},
   "outputs": [
    {
     "ename": "NameError",
     "evalue": "name 'valid_data' is not defined",
     "output_type": "error",
     "traceback": [
      "\u001b[1;31m---------------------------------------------------------------------------\u001b[0m",
      "\u001b[1;31mNameError\u001b[0m                                 Traceback (most recent call last)",
      "\u001b[1;32m<ipython-input-24-c6ef2cb2a23d>\u001b[0m in \u001b[0;36m<module>\u001b[1;34m\u001b[0m\n\u001b[1;32m----> 1\u001b[1;33m \u001b[0mplot_prediction\u001b[0m\u001b[1;33m(\u001b[0m\u001b[0mvalid_data\u001b[0m\u001b[1;33m,\u001b[0m \u001b[0mpredictions\u001b[0m\u001b[1;33m,\u001b[0m \u001b[0mpredict\u001b[0m\u001b[1;33m(\u001b[0m\u001b[0mmodel\u001b[0m\u001b[1;33m,\u001b[0m \u001b[0mscaler\u001b[0m\u001b[1;33m,\u001b[0m \u001b[0mBVH_filled\u001b[0m\u001b[1;33m[\u001b[0m\u001b[1;34m'Close'\u001b[0m\u001b[1;33m]\u001b[0m\u001b[1;33m,\u001b[0m \u001b[0mtime_window\u001b[0m\u001b[1;33m,\u001b[0m \u001b[1;36m20\u001b[0m\u001b[1;33m)\u001b[0m\u001b[1;33m,\u001b[0m \u001b[0mshow\u001b[0m \u001b[1;33m=\u001b[0m \u001b[1;32mNone\u001b[0m\u001b[1;33m,\u001b[0m \u001b[0mtitle\u001b[0m\u001b[1;33m=\u001b[0m\u001b[1;34m'Next 20 days prediction'\u001b[0m\u001b[1;33m)\u001b[0m\u001b[1;33m\u001b[0m\u001b[1;33m\u001b[0m\u001b[0m\n\u001b[0m",
      "\u001b[1;31mNameError\u001b[0m: name 'valid_data' is not defined"
     ]
    }
   ],
   "source": [
    "plot_prediction(valid_data, predictions, predict(model, scaler, BVH_filled['Close'], time_window, 20), show = None, title='Next 20 days prediction')"
   ]
  },
  {
   "cell_type": "code",
   "execution_count": null,
   "metadata": {},
   "outputs": [],
   "source": [
    "plot_prediction(valid_data, predictions, predict(model, scaler, BVH_filled['Close'], time_window, 20), show = None, title='Next 20 days prediction')"
   ]
  },
  {
   "cell_type": "code",
   "execution_count": null,
   "metadata": {},
   "outputs": [],
   "source": [
    "def random_predict(model, scaler, valid_data, time_window, num_of_date, points):\n",
    "    predictions = []\n",
    "\n",
    "    for p in points:\n",
    "        if p < time_window or p > len(valid_data): continue\n",
    "        predictions.append(predict(model, scaler, valid_data[:p], time_window, num_of_date))\n",
    "          \n",
    "    plt.figure(figsize=(16,8))\n",
    "    plt.xlabel('Date', fontsize=18)\n",
    "    plt.ylabel('Close Price', fontsize=18)\n",
    "    plt.plot(valid_data)\n",
    "    for p in predictions:\n",
    "        plt.plot(p, color = 'g')\n",
    "    plt.legend(['Val', 'Prediction'], loc='lower right')\n",
    "    plt.show()"
   ]
  },
  {
   "cell_type": "code",
   "execution_count": null,
   "metadata": {},
   "outputs": [],
   "source": [
    "random_predict(model, scaler, valid_data, time_window, 15, [100, 242, 300, 500, 560, 595, 690])"
   ]
  },
  {
   "cell_type": "markdown",
   "metadata": {},
   "source": [
    "# Ref"
   ]
  },
  {
   "cell_type": "markdown",
   "metadata": {},
   "source": [
    "https://insights.magestore.com/posts/giai-thuat-time-series-forecasting\n",
    "\n",
    "https://www.datacamp.com/community/tutorials/lstm-python-stock-market\n",
    "\n",
    "https://randerson112358.medium.com/stock-price-prediction-using-python-machine-learning-e82a039ac2bb\n",
    "\n",
    "https://viblo.asia/p/lam-quen-voi-keras-gGJ59mxJ5X2\n",
    "\n",
    "https://www.tensorflow.org/api_docs/python/tf/keras/Sequential\n",
    "\n",
    "https://www.tensorflow.org/api_docs/python/tf/keras/optimizers\n",
    "\n",
    "https://www.tensorflow.org/api_docs/python/tf/keras/layers/LSTM\n",
    "\n",
    "https://www.tensorflow.org/api_docs/python/tf/keras/layers/Dense\n",
    "\n",
    "https://viblo.asia/p/optimizer-hieu-sau-ve-cac-thuat-toan-toi-uu-gdsgdadam-Qbq5QQ9E5D8\n",
    "\n",
    "https://www.phamduytung.com/blog/2018-10-02-understanding-epoch-batchsize-iterations/"
   ]
  },
  {
   "cell_type": "code",
   "execution_count": null,
   "metadata": {},
   "outputs": [],
   "source": []
  }
 ],
 "metadata": {
  "kernelspec": {
   "display_name": "Python 3.8",
   "language": "python",
   "name": "other-env-3.8"
  },
  "language_info": {
   "codemirror_mode": {
    "name": "ipython",
    "version": 3
   },
   "file_extension": ".py",
   "mimetype": "text/x-python",
   "name": "python",
   "nbconvert_exporter": "python",
   "pygments_lexer": "ipython3",
   "version": "3.8.6"
  }
 },
 "nbformat": 4,
 "nbformat_minor": 2
}
