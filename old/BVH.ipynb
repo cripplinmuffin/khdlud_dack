{
 "cells": [
  {
   "cell_type": "code",
<<<<<<< HEAD
   "execution_count": 7,
=======
   "execution_count": 1,
>>>>>>> f4ad6ae727bf23c7f7a974008291e6855f78f9c7
   "metadata": {},
   "outputs": [],
   "source": [
    "from selenium import webdriver\n",
    "from selenium.webdriver.common.by import By\n",
    "from requests_html import HTML\n",
    "import time\n",
    "\n",
    "import pandas as pd"
   ]
  },
  {
   "cell_type": "code",
<<<<<<< HEAD
   "execution_count": 8,
   "metadata": {},
   "outputs": [],
   "source": [
    "url = 'https://s.cafef.vn/Lich-su-giao-dich-BVH-1.chn'"
=======
   "execution_count": 2,
   "metadata": {},
   "outputs": [],
   "source": [
    "url = 'https://s.cafef.vn/Lich-su-giao-dich-BVH-1.chn?fbclid=IwAR0e98txe3qOw8SP_cTAVxXqeTN2CnuAiOnnLMzUXovyH-zJRZXVNBWU2sg'"
>>>>>>> f4ad6ae727bf23c7f7a974008291e6855f78f9c7
   ]
  },
  {
   "cell_type": "code",
<<<<<<< HEAD
   "execution_count": 9,
=======
   "execution_count": 3,
>>>>>>> f4ad6ae727bf23c7f7a974008291e6855f78f9c7
   "metadata": {},
   "outputs": [],
   "source": [
    "import urllib.robotparser\n",
    "rp = urllib.robotparser.RobotFileParser()\n",
    "rp.set_url('https://s.cafef.vn/robots.txt')\n",
    "rp.read()"
   ]
  },
  {
   "cell_type": "code",
<<<<<<< HEAD
   "execution_count": 10,
   "metadata": {},
   "outputs": [
    {
     "data": {
      "text/plain": [
       "True"
      ]
     },
     "execution_count": 10,
     "metadata": {},
     "output_type": "execute_result"
    }
   ],
   "source": [
    "rp.can_fetch('*', url)"
   ]
  },
  {
   "cell_type": "code",
   "execution_count": 11,
=======
   "execution_count": 4,
>>>>>>> f4ad6ae727bf23c7f7a974008291e6855f78f9c7
   "metadata": {},
   "outputs": [],
   "source": [
    "row_id = []\n",
    "for i in range(1, 21):\n",
    "    if i%2: row_id.append(str(i).zfill(2) + '_')\n",
    "    else: row_id.append(str(i).zfill(2) + '_alt')"
   ]
  },
  {
   "cell_type": "code",
<<<<<<< HEAD
   "execution_count": 14,
   "metadata": {
    "scrolled": false
   },
   "outputs": [
    {
     "name": "stdout",
     "output_type": "stream",
     "text": [
      "16/12/2020,58.40,58.60,57.80,58.60\n",
      "\n",
      "15/12/2020,58.60,59.40,58.00,58.20\n",
      "\n",
      "14/12/2020,58.00,59.40,57.30,58.60\n",
      "\n",
      "11/12/2020,56.70,57.50,56.00,57.50\n",
      "\n",
      "10/12/2020,57.90,58.00,56.50,56.70\n",
      "\n",
      "09/12/2020,57.60,58.50,57.30,57.90\n",
      "\n",
      "08/12/2020,56.50,58.20,56.40,57.60\n",
      "\n",
      "07/12/2020,56.00,56.30,55.30,56.00\n",
      "\n",
      "04/12/2020,56.60,56.80,55.30,55.40\n",
      "\n",
      "03/12/2020,56.00,56.80,56.00,56.40\n",
      "\n",
      "02/12/2020,55.20,55.80,54.90,55.80\n",
      "\n",
      "01/12/2020,53.70,55.50,53.70,55.20\n",
      "\n",
      "30/11/2020,55.90,56.50,55.00,55.00\n",
      "\n",
      "27/11/2020,54.90,55.80,54.80,55.80\n",
      "\n",
      "26/11/2020,55.10,55.30,54.40,54.60\n",
      "\n",
      "25/11/2020,55.90,56.50,55.00,55.20\n",
      "\n",
      "24/11/2020,57.00,58.00,54.00,55.80\n",
      "\n",
      "23/11/2020,56.70,56.90,56.00,56.80\n",
      "\n",
      "20/11/2020,57.20,57.30,56.60,56.80\n",
      "\n",
      "19/11/2020,55.10,57.50,55.00,56.90\n",
      "\n",
      "16/12/2020,58.40,58.60,57.80,58.60\n",
      "\n",
      "15/12/2020,58.60,59.40,58.00,58.20\n",
      "\n",
      "14/12/2020,58.00,59.40,57.30,58.60\n",
      "\n",
      "11/12/2020,56.70,57.50,56.00,57.50\n",
      "\n",
      "10/12/2020,57.90,58.00,56.50,56.70\n",
      "\n",
      "09/12/2020,57.60,58.50,57.30,57.90\n",
      "\n",
      "08/12/2020,56.50,58.20,56.40,57.60\n",
      "\n",
      "07/12/2020,56.00,56.30,55.30,56.00\n",
      "\n",
      "04/12/2020,56.60,56.80,55.30,55.40\n",
      "\n",
      "03/12/2020,56.00,56.80,56.00,56.40\n",
      "\n",
      "02/12/2020,55.20,55.80,54.90,55.80\n",
      "\n",
      "01/12/2020,53.70,55.50,53.70,55.20\n",
      "\n",
      "30/11/2020,55.90,56.50,55.00,55.00\n",
      "\n",
      "27/11/2020,54.90,55.80,54.80,55.80\n",
      "\n",
      "26/11/2020,55.10,55.30,54.40,54.60\n",
      "\n",
      "25/11/2020,55.90,56.50,55.00,55.20\n",
      "\n",
      "24/11/2020,57.00,58.00,54.00,55.80\n",
      "\n",
      "23/11/2020,56.70,56.90,56.00,56.80\n",
      "\n",
      "20/11/2020,57.20,57.30,56.60,56.80\n",
      "\n",
      "19/11/2020,55.10,57.50,55.00,56.90\n",
      "\n",
      "16/12/2020,58.40,58.60,57.80,58.60\n",
      "\n",
      "15/12/2020,58.60,59.40,58.00,58.20\n",
      "\n",
      "14/12/2020,58.00,59.40,57.30,58.60\n",
      "\n",
      "11/12/2020,56.70,57.50,56.00,57.50\n",
      "\n",
      "10/12/2020,57.90,58.00,56.50,56.70\n",
      "\n",
      "09/12/2020,57.60,58.50,57.30,57.90\n",
      "\n",
      "08/12/2020,56.50,58.20,56.40,57.60\n",
      "\n",
      "07/12/2020,56.00,56.30,55.30,56.00\n",
      "\n",
      "04/12/2020,56.60,56.80,55.30,55.40\n",
      "\n",
      "03/12/2020,56.00,56.80,56.00,56.40\n",
      "\n",
      "02/12/2020,55.20,55.80,54.90,55.80\n",
      "\n",
      "01/12/2020,53.70,55.50,53.70,55.20\n",
      "\n",
      "30/11/2020,55.90,56.50,55.00,55.00\n",
      "\n",
      "27/11/2020,54.90,55.80,54.80,55.80\n",
      "\n",
      "26/11/2020,55.10,55.30,54.40,54.60\n",
      "\n",
      "25/11/2020,55.90,56.50,55.00,55.20\n",
      "\n",
      "24/11/2020,57.00,58.00,54.00,55.80\n",
      "\n",
      "23/11/2020,56.70,56.90,56.00,56.80\n",
      "\n",
      "20/11/2020,57.20,57.30,56.60,56.80\n",
      "\n",
      "19/11/2020,55.10,57.50,55.00,56.90\n",
      "\n",
      "16/12/2020,58.40,58.60,57.80,58.60\n",
      "\n",
      "15/12/2020,58.60,59.40,58.00,58.20\n",
      "\n",
      "14/12/2020,58.00,59.40,57.30,58.60\n",
      "\n",
      "11/12/2020,56.70,57.50,56.00,57.50\n",
      "\n",
      "10/12/2020,57.90,58.00,56.50,56.70\n",
      "\n",
      "09/12/2020,57.60,58.50,57.30,57.90\n",
      "\n",
      "08/12/2020,56.50,58.20,56.40,57.60\n",
      "\n",
      "07/12/2020,56.00,56.30,55.30,56.00\n",
      "\n",
      "04/12/2020,56.60,56.80,55.30,55.40\n",
      "\n",
      "03/12/2020,56.00,56.80,56.00,56.40\n",
      "\n",
      "02/12/2020,55.20,55.80,54.90,55.80\n",
      "\n",
      "01/12/2020,53.70,55.50,53.70,55.20\n",
      "\n",
      "30/11/2020,55.90,56.50,55.00,55.00\n",
      "\n",
      "27/11/2020,54.90,55.80,54.80,55.80\n",
      "\n",
      "26/11/2020,55.10,55.30,54.40,54.60\n",
      "\n",
      "25/11/2020,55.90,56.50,55.00,55.20\n",
      "\n",
      "24/11/2020,57.00,58.00,54.00,55.80\n",
      "\n",
      "23/11/2020,56.70,56.90,56.00,56.80\n",
      "\n",
      "20/11/2020,57.20,57.30,56.60,56.80\n",
      "\n",
      "19/11/2020,55.10,57.50,55.00,56.90\n",
      "\n"
     ]
    },
    {
     "ename": "KeyboardInterrupt",
     "evalue": "",
     "output_type": "error",
     "traceback": [
      "\u001b[1;31m---------------------------------------------------------------------------\u001b[0m",
      "\u001b[1;31mKeyboardInterrupt\u001b[0m                         Traceback (most recent call last)",
      "\u001b[1;32m<ipython-input-14-b342d752f383>\u001b[0m in \u001b[0;36m<module>\u001b[1;34m\u001b[0m\n\u001b[0;32m     19\u001b[0m     \u001b[1;32mif\u001b[0m \u001b[0mlen\u001b[0m\u001b[1;33m(\u001b[0m\u001b[0mbutton\u001b[0m\u001b[1;33m)\u001b[0m \u001b[1;33m>\u001b[0m \u001b[1;36m0\u001b[0m\u001b[1;33m:\u001b[0m\u001b[1;33m\u001b[0m\u001b[1;33m\u001b[0m\u001b[0m\n\u001b[0;32m     20\u001b[0m         \u001b[0mbutton\u001b[0m\u001b[1;33m[\u001b[0m\u001b[1;36m0\u001b[0m\u001b[1;33m]\u001b[0m\u001b[1;33m.\u001b[0m\u001b[0mclick\u001b[0m\u001b[1;33m(\u001b[0m\u001b[1;33m)\u001b[0m\u001b[1;33m\u001b[0m\u001b[1;33m\u001b[0m\u001b[0m\n\u001b[1;32m---> 21\u001b[1;33m         \u001b[0mtime\u001b[0m\u001b[1;33m.\u001b[0m\u001b[0msleep\u001b[0m\u001b[1;33m(\u001b[0m\u001b[1;36m5\u001b[0m\u001b[1;33m)\u001b[0m\u001b[1;33m\u001b[0m\u001b[1;33m\u001b[0m\u001b[0m\n\u001b[0m\u001b[0;32m     22\u001b[0m     \u001b[1;32melse\u001b[0m\u001b[1;33m:\u001b[0m\u001b[1;33m\u001b[0m\u001b[1;33m\u001b[0m\u001b[0m\n\u001b[0;32m     23\u001b[0m         \u001b[1;32mbreak\u001b[0m\u001b[1;33m\u001b[0m\u001b[1;33m\u001b[0m\u001b[0m\n",
      "\u001b[1;31mKeyboardInterrupt\u001b[0m: "
     ]
    }
   ],
   "source": [
    "#file = open('bvh_data.csv', 'w', encoding='utf-8')\n",
    "#file.write(f'Date\\tOpen\\tHigh\\tLow\\tClose\\n')\n",
    "\n",
    "driver = webdriver.Chrome(executable_path='./chromedriver.exe')\n",
    "driver.get(url)\n",
    "html = HTML(html=driver.page_source)\n",
    "\n",
    "while True:\n",
    "    for i in row_id:\n",
    "        row = html.find('tr#ctl00_ContentPlaceHolder1_ctl03_rptData2_ctl' + i + 'itemTR', first=True)\n",
    "        if row:\n",
    "            date = row.find('td.Item_DateItem', first=True).text\n",
    "            prices = row.find('td.Item_Price10')\n",
    "            op, hi, lo, cl = prices[5].text, prices[6].text, prices[7].text, prices[1].text\n",
    "            #file.write(f'{date},{op},{hi},{lo},{cl}\\n')\n",
    "            print(f'{date},{op},{hi},{lo},{cl}\\n')\n",
    "\n",
    "    button = driver.find_elements(By.LINK_TEXT, '>')\n",
    "    if len(button) > 0:\n",
    "        button[0].click()\n",
    "        time.sleep(5)\n",
    "    else:\n",
    "        break\n",
    "\n",
    "#file.close()"
   ]
  },
  {
   "cell_type": "code",
   "execution_count": null,
   "metadata": {},
   "outputs": [],
   "source": [
    "pd.read_csv('bvh_data.csv')"
=======
   "execution_count": 5,
   "metadata": {},
   "outputs": [],
   "source": [
    "if rp.can_fetch('*', url):\n",
    "    file = open('bvh_data.csv', 'w', encoding='utf-8')\n",
    "    file.write(f'Date\\tOpen\\tHigh\\tLow\\tClose\\n')\n",
    "    \n",
    "    driver = webdriver.Chrome(executable_path='./chromedriver.exe')\n",
    "    driver.get(url)\n",
    "    html = HTML(html=driver.page_source)\n",
    "    \n",
    "    while True:\n",
    "        for i in row_id:\n",
    "            row = html.find('tr#ctl00_ContentPlaceHolder1_ctl03_rptData2_ctl' + i + 'itemTR', first=True)\n",
    "            if row:\n",
    "                date = row.find('td.Item_DateItem', first=True).text\n",
    "                prices = row.find('td.Item_Price10')\n",
    "                op, hi, lo, cl = prices[5].text, prices[6].text, prices[7].text, prices[1].text\n",
    "                file.write(f'{date}\\t{op}\\t{hi}\\t{hi}\\t{cl}\\n')\n",
    "                \n",
    "        button = driver.find_elements(By.LINK_TEXT, '>')\n",
    "        if len(button) > 0:\n",
    "            button[0].click()\n",
    "            time.sleep(2)\n",
    "        else:\n",
    "            break\n",
    "    \n",
    "    file.close()"
>>>>>>> f4ad6ae727bf23c7f7a974008291e6855f78f9c7
   ]
  },
  {
   "cell_type": "code",
<<<<<<< HEAD
   "execution_count": null,
   "metadata": {},
   "outputs": [],
   "source": []
=======
   "execution_count": 6,
   "metadata": {},
   "outputs": [
    {
     "data": {
      "text/html": [
       "<div>\n",
       "<style scoped>\n",
       "    .dataframe tbody tr th:only-of-type {\n",
       "        vertical-align: middle;\n",
       "    }\n",
       "\n",
       "    .dataframe tbody tr th {\n",
       "        vertical-align: top;\n",
       "    }\n",
       "\n",
       "    .dataframe thead th {\n",
       "        text-align: right;\n",
       "    }\n",
       "</style>\n",
       "<table border=\"1\" class=\"dataframe\">\n",
       "  <thead>\n",
       "    <tr style=\"text-align: right;\">\n",
       "      <th></th>\n",
       "      <th>Date</th>\n",
       "      <th>Open</th>\n",
       "      <th>High</th>\n",
       "      <th>Low</th>\n",
       "      <th>Close</th>\n",
       "    </tr>\n",
       "  </thead>\n",
       "  <tbody>\n",
       "    <tr>\n",
       "      <td>0</td>\n",
       "      <td>16/12/2020</td>\n",
       "      <td>58.4</td>\n",
       "      <td>58.6</td>\n",
       "      <td>58.6</td>\n",
       "      <td>58.6</td>\n",
       "    </tr>\n",
       "    <tr>\n",
       "      <td>1</td>\n",
       "      <td>15/12/2020</td>\n",
       "      <td>58.6</td>\n",
       "      <td>59.4</td>\n",
       "      <td>59.4</td>\n",
       "      <td>58.2</td>\n",
       "    </tr>\n",
       "    <tr>\n",
       "      <td>2</td>\n",
       "      <td>14/12/2020</td>\n",
       "      <td>58.0</td>\n",
       "      <td>59.4</td>\n",
       "      <td>59.4</td>\n",
       "      <td>58.6</td>\n",
       "    </tr>\n",
       "    <tr>\n",
       "      <td>3</td>\n",
       "      <td>11/12/2020</td>\n",
       "      <td>56.7</td>\n",
       "      <td>57.5</td>\n",
       "      <td>57.5</td>\n",
       "      <td>57.5</td>\n",
       "    </tr>\n",
       "    <tr>\n",
       "      <td>4</td>\n",
       "      <td>10/12/2020</td>\n",
       "      <td>57.9</td>\n",
       "      <td>58.0</td>\n",
       "      <td>58.0</td>\n",
       "      <td>56.7</td>\n",
       "    </tr>\n",
       "  </tbody>\n",
       "</table>\n",
       "</div>"
      ],
      "text/plain": [
       "         Date  Open  High   Low  Close\n",
       "0  16/12/2020  58.4  58.6  58.6   58.6\n",
       "1  15/12/2020  58.6  59.4  59.4   58.2\n",
       "2  14/12/2020  58.0  59.4  59.4   58.6\n",
       "3  11/12/2020  56.7  57.5  57.5   57.5\n",
       "4  10/12/2020  57.9  58.0  58.0   56.7"
      ]
     },
     "execution_count": 6,
     "metadata": {},
     "output_type": "execute_result"
    }
   ],
   "source": [
    "pd.read_csv('bvh_data.csv', sep='\\t').head(5)"
   ]
>>>>>>> f4ad6ae727bf23c7f7a974008291e6855f78f9c7
  }
 ],
 "metadata": {
  "kernelspec": {
<<<<<<< HEAD
   "display_name": "Python 3.8",
   "language": "python",
   "name": "other-env-3.8"
=======
   "display_name": "Python 3",
   "language": "python",
   "name": "python3"
>>>>>>> f4ad6ae727bf23c7f7a974008291e6855f78f9c7
  },
  "language_info": {
   "codemirror_mode": {
    "name": "ipython",
    "version": 3
   },
   "file_extension": ".py",
   "mimetype": "text/x-python",
   "name": "python",
   "nbconvert_exporter": "python",
   "pygments_lexer": "ipython3",
<<<<<<< HEAD
   "version": "3.8.6"
=======
   "version": "3.7.4"
>>>>>>> f4ad6ae727bf23c7f7a974008291e6855f78f9c7
  }
 },
 "nbformat": 4,
 "nbformat_minor": 2
}
